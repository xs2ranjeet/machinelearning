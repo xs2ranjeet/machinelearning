{
 "cells": [
  {
   "cell_type": "code",
   "execution_count": 1,
   "metadata": {
    "collapsed": true
   },
   "outputs": [],
   "source": [
    "#import libraries\n",
    "import numpy as np\n",
    "import matplotlib.pyplot as plt\n",
    "import pandas as pd"
   ]
  },
  {
   "cell_type": "code",
   "execution_count": 2,
   "metadata": {},
   "outputs": [
    {
     "data": {
      "text/html": [
       "<div>\n",
       "<style>\n",
       "    .dataframe thead tr:only-child th {\n",
       "        text-align: right;\n",
       "    }\n",
       "\n",
       "    .dataframe thead th {\n",
       "        text-align: left;\n",
       "    }\n",
       "\n",
       "    .dataframe tbody tr th {\n",
       "        vertical-align: top;\n",
       "    }\n",
       "</style>\n",
       "<table border=\"1\" class=\"dataframe\">\n",
       "  <thead>\n",
       "    <tr style=\"text-align: right;\">\n",
       "      <th></th>\n",
       "      <th>Age</th>\n",
       "      <th>Average Claims per Year (Rupees)</th>\n",
       "    </tr>\n",
       "  </thead>\n",
       "  <tbody>\n",
       "    <tr>\n",
       "      <th>0</th>\n",
       "      <td>25</td>\n",
       "      <td>4500</td>\n",
       "    </tr>\n",
       "    <tr>\n",
       "      <th>1</th>\n",
       "      <td>30</td>\n",
       "      <td>5000</td>\n",
       "    </tr>\n",
       "    <tr>\n",
       "      <th>2</th>\n",
       "      <td>35</td>\n",
       "      <td>6000</td>\n",
       "    </tr>\n",
       "    <tr>\n",
       "      <th>3</th>\n",
       "      <td>40</td>\n",
       "      <td>8000</td>\n",
       "    </tr>\n",
       "    <tr>\n",
       "      <th>4</th>\n",
       "      <td>45</td>\n",
       "      <td>11000</td>\n",
       "    </tr>\n",
       "    <tr>\n",
       "      <th>5</th>\n",
       "      <td>50</td>\n",
       "      <td>15000</td>\n",
       "    </tr>\n",
       "    <tr>\n",
       "      <th>6</th>\n",
       "      <td>55</td>\n",
       "      <td>20000</td>\n",
       "    </tr>\n",
       "    <tr>\n",
       "      <th>7</th>\n",
       "      <td>60</td>\n",
       "      <td>30000</td>\n",
       "    </tr>\n",
       "    <tr>\n",
       "      <th>8</th>\n",
       "      <td>65</td>\n",
       "      <td>50000</td>\n",
       "    </tr>\n",
       "    <tr>\n",
       "      <th>9</th>\n",
       "      <td>70</td>\n",
       "      <td>100000</td>\n",
       "    </tr>\n",
       "  </tbody>\n",
       "</table>\n",
       "</div>"
      ],
      "text/plain": [
       "   Age  Average Claims per Year (Rupees)\n",
       "0   25                              4500\n",
       "1   30                              5000\n",
       "2   35                              6000\n",
       "3   40                              8000\n",
       "4   45                             11000\n",
       "5   50                             15000\n",
       "6   55                             20000\n",
       "7   60                             30000\n",
       "8   65                             50000\n",
       "9   70                            100000"
      ]
     },
     "execution_count": 2,
     "metadata": {},
     "output_type": "execute_result"
    }
   ],
   "source": [
    "#import data from file\n",
    "insuranceData = pd.read_csv('Insurance.csv')\n",
    "insuranceData"
   ]
  },
  {
   "cell_type": "code",
   "execution_count": 4,
   "metadata": {},
   "outputs": [
    {
     "name": "stdout",
     "output_type": "stream",
     "text": [
      "[[25]\n",
      " [30]\n",
      " [35]\n",
      " [40]\n",
      " [45]\n",
      " [50]\n",
      " [55]\n",
      " [60]\n",
      " [65]\n",
      " [70]]\n",
      "[  4500   5000   6000   8000  11000  15000  20000  30000  50000 100000]\n"
     ]
    }
   ],
   "source": [
    "# All mathematical operations will be performed on the matrix, so now we create\n",
    "# matrix for dependent variables and independent variables.\n",
    "X = insuranceData.iloc[:,0:1].values\n",
    "y = insuranceData.iloc[:,1].values\n",
    "print(X)\n",
    "print(y)"
   ]
  },
  {
   "cell_type": "code",
   "execution_count": 5,
   "metadata": {
    "collapsed": true
   },
   "outputs": [],
   "source": [
    "#==============================================================================\n",
    "# We will not distribute the dataset into test and train as we have very less \n",
    "# number of data and which is not equally distributed, so if we miss any of \n",
    "# the value, it may have severe implications on the model creation.\n",
    "#==============================================================================\n"
   ]
  },
  {
   "cell_type": "code",
   "execution_count": 6,
   "metadata": {},
   "outputs": [
    {
     "data": {
      "text/plain": [
       "LinearRegression(copy_X=True, fit_intercept=True, n_jobs=1, normalize=False)"
      ]
     },
     "execution_count": 6,
     "metadata": {},
     "output_type": "execute_result"
    }
   ],
   "source": [
    "# Let us first fit data with linear regression to see the comparison later\n",
    "from sklearn.linear_model import LinearRegression\n",
    "linregressor = LinearRegression()\n",
    "linregressor.fit(X, y)"
   ]
  },
  {
   "cell_type": "code",
   "execution_count": 7,
   "metadata": {
    "collapsed": true
   },
   "outputs": [],
   "source": [
    "#==============================================================================\n",
    "# Now fit the polynomial regressor. First we will use degree 2 and later higher\n",
    "# If one changes the degree from 2 to 3 or higher, a higher tendency to overfit\n",
    "# is seen.\n",
    "#=============================================================================="
   ]
  },
  {
   "cell_type": "code",
   "execution_count": 8,
   "metadata": {},
   "outputs": [
    {
     "data": {
      "text/plain": [
       "array([[  1.00000000e+00,   2.50000000e+01,   6.25000000e+02,\n",
       "          1.56250000e+04],\n",
       "       [  1.00000000e+00,   3.00000000e+01,   9.00000000e+02,\n",
       "          2.70000000e+04],\n",
       "       [  1.00000000e+00,   3.50000000e+01,   1.22500000e+03,\n",
       "          4.28750000e+04],\n",
       "       [  1.00000000e+00,   4.00000000e+01,   1.60000000e+03,\n",
       "          6.40000000e+04],\n",
       "       [  1.00000000e+00,   4.50000000e+01,   2.02500000e+03,\n",
       "          9.11250000e+04],\n",
       "       [  1.00000000e+00,   5.00000000e+01,   2.50000000e+03,\n",
       "          1.25000000e+05],\n",
       "       [  1.00000000e+00,   5.50000000e+01,   3.02500000e+03,\n",
       "          1.66375000e+05],\n",
       "       [  1.00000000e+00,   6.00000000e+01,   3.60000000e+03,\n",
       "          2.16000000e+05],\n",
       "       [  1.00000000e+00,   6.50000000e+01,   4.22500000e+03,\n",
       "          2.74625000e+05],\n",
       "       [  1.00000000e+00,   7.00000000e+01,   4.90000000e+03,\n",
       "          3.43000000e+05]])"
      ]
     },
     "execution_count": 8,
     "metadata": {},
     "output_type": "execute_result"
    }
   ],
   "source": [
    "from sklearn.preprocessing import PolynomialFeatures\n",
    "\n",
    "#First create a polynomial\n",
    "polyfeature = PolynomialFeatures(degree = 3)\n",
    "Poly_Matrix = polyfeature.fit_transform(X)\n",
    "Poly_Matrix"
   ]
  },
  {
   "cell_type": "code",
   "execution_count": 9,
   "metadata": {},
   "outputs": [
    {
     "data": {
      "text/plain": [
       "LinearRegression(copy_X=True, fit_intercept=True, n_jobs=1, normalize=False)"
      ]
     },
     "execution_count": 9,
     "metadata": {},
     "output_type": "execute_result"
    }
   ],
   "source": [
    "# Now fit the polynomial matrix into linear regressor\n",
    "linregressor2 = LinearRegression()\n",
    "linregressor2.fit(Poly_Matrix, y)"
   ]
  },
  {
   "cell_type": "code",
   "execution_count": 10,
   "metadata": {
    "collapsed": true
   },
   "outputs": [],
   "source": [
    "#==============================================================================\n",
    "# Visualize both linear and polynomial regressor algo outcome\n",
    "#=============================================================================="
   ]
  },
  {
   "cell_type": "code",
   "execution_count": 12,
   "metadata": {},
   "outputs": [
    {
     "data": {
      "image/png": "[encoded data removed]",
      "text/plain": [
       "<matplotlib.figure.Figure at 0xfbb671c940>"
      ]
     },
     "metadata": {},
     "output_type": "display_data"
    }
   ],
   "source": [
    "# Visualising the Linear Regression results\n",
    "plt.scatter(X, y, color = 'red')\n",
    "plt.plot(X, linregressor.predict(X), color = 'blue')\n",
    "plt.title('Insurance Premium - Linear')\n",
    "plt.xlabel('Age')\n",
    "plt.ylabel('Premium')\n",
    "plt.show()"
   ]
  },
  {
   "cell_type": "code",
   "execution_count": 16,
   "metadata": {},
   "outputs": [
    {
     "data": {
      "image/png": "[encoded data removed]",
      "text/plain": [
       "<matplotlib.figure.Figure at 0xfbb7228da0>"
      ]
     },
     "metadata": {},
     "output_type": "display_data"
    }
   ],
   "source": [
    "# Visualising the Polynomial Regression results\n",
    "plt.scatter(X, y, color = 'red')\n",
    "plt.plot(X, linregressor2.predict(polyfeature.fit_transform(X)), color ='blue')\n",
    "plt.title('Insurance Premium - Polynomial')\n",
    "plt.xlabel('Age')\n",
    "plt.ylabel('Premium')\n",
    "plt.show()"
   ]
  },
  {
   "cell_type": "code",
   "execution_count": 17,
   "metadata": {
    "collapsed": true
   },
   "outputs": [],
   "source": [
    "#==============================================================================\n",
    "# Now see how accurately polynomial and linear regressor predict premium based\n",
    "# on age\n",
    "#=============================================================================="
   ]
  },
  {
   "cell_type": "code",
   "execution_count": 19,
   "metadata": {},
   "outputs": [
    {
     "name": "stdout",
     "output_type": "stream",
     "text": [
      "linear prediction:  [ 37081.81818182]\n",
      "polynomial prediction:  [ 17759.44055947]\n"
     ]
    }
   ],
   "source": [
    "val = 55\n",
    "predictionLinear = linregressor.predict(val)\n",
    "predictionPloy = linregressor2.predict(polyfeature.fit_transform(val))\n",
    "\n",
    "print(\"linear prediction: \", predictionLinear)\n",
    "print('polynomial prediction: ', predictionPloy)"
   ]
  },
  {
   "cell_type": "code",
   "execution_count": 20,
   "metadata": {},
   "outputs": [
    {
     "data": {
      "image/png": "[encoded data removed]",
      "text/plain": [
       "<matplotlib.figure.Figure at 0xfbb6f25b70>"
      ]
     },
     "metadata": {},
     "output_type": "display_data"
    }
   ],
   "source": [
    "# now let's see whether the respective regressors give the correct output for val = 55\n",
    "# note the correct output in prior polynomial trend and compare with what the following graphs predict\n",
    "# for val = 55, we expect output value closer to 20000 as per initial data trend\n",
    "# Visualising the Linear Regression results\n",
    "plt.scatter(val, predictionLinear, color = 'red')\n",
    "plt.plot(X, linregressor.predict(X), color = 'blue')\n",
    "plt.title('Insurance Premium - Test with Linear')\n",
    "plt.xlabel('Age')\n",
    "plt.ylabel('Premium')\n",
    "plt.show()"
   ]
  },
  {
   "cell_type": "code",
   "execution_count": 21,
   "metadata": {},
   "outputs": [
    {
     "data": {
      "image/png": "[encoded data removed]",
      "text/plain": [
       "<matplotlib.figure.Figure at 0xfbb6d1d390>"
      ]
     },
     "metadata": {},
     "output_type": "display_data"
    }
   ],
   "source": [
    "# Visualising the Polynomial Regression results\n",
    "plt.scatter(val, predictionPloy, color = 'red')\n",
    "plt.plot(X, linregressor2.predict(polyfeature.fit_transform(X)), color = 'blue')\n",
    "plt.title('Insurance Premium - test with Polynomial')\n",
    "plt.xlabel('Age')\n",
    "plt.ylabel('Premium')\n",
    "plt.show()"
   ]
  }
 ],
 "metadata": {
  "kernelspec": {
   "display_name": "Python 3",
   "language": "python",
   "name": "python3"
  },
  "language_info": {
   "codemirror_mode": {
    "name": "ipython",
    "version": 3
   },
   "file_extension": ".py",
   "mimetype": "text/x-python",
   "name": "python",
   "nbconvert_exporter": "python",
   "pygments_lexer": "ipython3",
   "version": "3.6.3"
  }
 },
 "nbformat": 4,
 "nbformat_minor": 2
}
