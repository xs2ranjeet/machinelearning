{
 "cells": [
  {
   "cell_type": "code",
   "execution_count": 2,
   "metadata": {
    "collapsed": true
   },
   "outputs": [],
   "source": [
    "# Import libraries\n",
    "import numpy as np\n",
    "import matplotlib.pyplot as plt\n",
    "import pandas as pd"
   ]
  },
  {
   "cell_type": "code",
   "execution_count": 3,
   "metadata": {
    "collapsed": true
   },
   "outputs": [],
   "source": [
    "# imort the dataset of flat prices\n",
    "flatdata = pd.read_csv('Price.csv')"
   ]
  },
  {
   "cell_type": "code",
   "execution_count": 9,
   "metadata": {},
   "outputs": [
    {
     "data": {
      "text/plain": [
       "array([[2000],\n",
       "       [1600],\n",
       "       [1980],\n",
       "       [1840],\n",
       "       [1710],\n",
       "       [1550],\n",
       "       [1470],\n",
       "       [1710],\n",
       "       [1540],\n",
       "       [1620],\n",
       "       [1500],\n",
       "       [1720],\n",
       "       [1600],\n",
       "       [1700],\n",
       "       [1440],\n",
       "       [1520],\n",
       "       [1960],\n",
       "       [1700],\n",
       "       [1420],\n",
       "       [1520],\n",
       "       [1900],\n",
       "       [1640],\n",
       "       [1900],\n",
       "       [1860],\n",
       "       [1700],\n",
       "       [1590],\n",
       "       [1410],\n",
       "       [1770],\n",
       "       [1550],\n",
       "       [1600],\n",
       "       [1580],\n",
       "       [1760],\n",
       "       [1600],\n",
       "       [1790],\n",
       "       [1480],\n",
       "       [1500],\n",
       "       [1980],\n",
       "       [1710],\n",
       "       [1400],\n",
       "       [1590]], dtype=int64)"
      ]
     },
     "execution_count": 9,
     "metadata": {},
     "output_type": "execute_result"
    }
   ],
   "source": [
    "X = flatdata.iloc[:,:-1].values\n",
    "X"
   ]
  },
  {
   "cell_type": "code",
   "execution_count": 10,
   "metadata": {},
   "outputs": [
    {
     "data": {
      "text/plain": [
       "array([88600, 71600, 93300, 84300, 80600, 75200, 69700, 82000, 69400,\n",
       "       78700, 79600, 82600, 74500, 83500, 76300, 74000, 92890, 79500,\n",
       "       75600, 70000, 82600, 73600, 92100, 84700, 82600, 75900, 68700,\n",
       "       84700, 72400, 76700, 82600, 83600, 78500, 84500, 78500, 72000,\n",
       "       92990, 81500, 71300, 72500], dtype=int64)"
      ]
     },
     "execution_count": 10,
     "metadata": {},
     "output_type": "execute_result"
    }
   ],
   "source": [
    "y = flatdata.iloc[:,1].values\n",
    "y"
   ]
  },
  {
   "cell_type": "code",
   "execution_count": 11,
   "metadata": {
    "collapsed": true
   },
   "outputs": [],
   "source": [
    "# split the dataset into training and test set. We will use 80/20 approach\n",
    "from sklearn.cross_validation import train_test_split\n",
    "X_train, X_test, y_train, y_test = train_test_split(X, y)"
   ]
  },
  {
   "cell_type": "code",
   "execution_count": 12,
   "metadata": {
    "collapsed": true
   },
   "outputs": [],
   "source": [
    "# Fitting the Linear Regression algo to the Training set\n",
    "from sklearn.linear_model import LinearRegression\n",
    "regressoragent = LinearRegression()"
   ]
  },
  {
   "cell_type": "code",
   "execution_count": 13,
   "metadata": {},
   "outputs": [
    {
     "data": {
      "text/plain": [
       "LinearRegression(copy_X=True, fit_intercept=True, n_jobs=1, normalize=False)"
      ]
     },
     "execution_count": 13,
     "metadata": {},
     "output_type": "execute_result"
    }
   ],
   "source": [
    "regressoragent.fit(X_train, y_train)"
   ]
  },
  {
   "cell_type": "code",
   "execution_count": 14,
   "metadata": {},
   "outputs": [
    {
     "data": {
      "text/plain": [
       "array([ 80783.35468821,  75386.76856655,  80783.35468821,  90137.43729907,\n",
       "        77905.17542333,  83301.76154498,  87978.80285041,  72508.58930167,\n",
       "        72868.36170978,  75386.76856655])"
      ]
     },
     "execution_count": 14,
     "metadata": {},
     "output_type": "execute_result"
    }
   ],
   "source": [
    "# Now check what our model learned by predicting the X_test values\n",
    "predictValues = regressoragent.predict(X_test)\n",
    "predictValues"
   ]
  },
  {
   "cell_type": "code",
   "execution_count": 16,
   "metadata": {},
   "outputs": [
    {
     "data": {
      "image/png": "[encoded data removed]",
      "text/plain": [
       "<matplotlib.figure.Figure at 0x469d6b0208>"
      ]
     },
     "metadata": {},
     "output_type": "display_data"
    }
   ],
   "source": [
    "# So now let us visualize the Training set\n",
    "plt.scatter(X_train, y_train, color = 'green')\n",
    "plt.plot(X_train, regressoragent.predict(X_train), color='red')\n",
    "plt.title('compare Training result - Area/Price')\n",
    "plt.xlabel('Area of Flat')\n",
    "plt.ylabel('Price')\n",
    "plt.show()"
   ]
  },
  {
   "cell_type": "code",
   "execution_count": 17,
   "metadata": {},
   "outputs": [
    {
     "data": {
      "image/png": "[encoded data removed]",
      "text/plain": [
       "<matplotlib.figure.Figure at 0x469d6b0630>"
      ]
     },
     "metadata": {},
     "output_type": "display_data"
    }
   ],
   "source": [
    "# So now let us visualize the Test set\n",
    "plt.scatter(X_test, y_test, color = 'green')\n",
    "plt.plot(X_test, regressoragent.predict(X_test), color = 'red')\n",
    "plt.title('compare Test result -  Area/Price')\n",
    "plt.xlabel('Area of Flat')\n",
    "plt.ylabel('Price')\n",
    "plt.show()"
   ]
  },
  {
   "cell_type": "code",
   "execution_count": 18,
   "metadata": {},
   "outputs": [
    {
     "name": "stdout",
     "output_type": "stream",
     "text": [
      "[ 77185.63060711]\n"
     ]
    }
   ],
   "source": [
    "val = 1600\n",
    "x = regressoragent.predict(val)\n",
    "print(x)"
   ]
  }
 ],
 "metadata": {
  "kernelspec": {
   "display_name": "Python 3",
   "language": "python",
   "name": "python3"
  },
  "language_info": {
   "codemirror_mode": {
    "name": "ipython",
    "version": 3
   },
   "file_extension": ".py",
   "mimetype": "text/x-python",
   "name": "python",
   "nbconvert_exporter": "python",
   "pygments_lexer": "ipython3",
   "version": "3.6.3"
  }
 },
 "nbformat": 4,
 "nbformat_minor": 2
}
