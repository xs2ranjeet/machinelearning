{
 "cells": [
  {
   "cell_type": "code",
   "execution_count": 1,
   "metadata": {
    "collapsed": true
   },
   "outputs": [],
   "source": [
    "import numpy as np\n",
    "import matplotlib.pyplot as plt\n",
    "import pandas as pd"
   ]
  },
  {
   "cell_type": "code",
   "execution_count": 2,
   "metadata": {},
   "outputs": [
    {
     "data": {
      "text/html": [
       "<div>\n",
       "<style>\n",
       "    .dataframe thead tr:only-child th {\n",
       "        text-align: right;\n",
       "    }\n",
       "\n",
       "    .dataframe thead th {\n",
       "        text-align: left;\n",
       "    }\n",
       "\n",
       "    .dataframe tbody tr th {\n",
       "        vertical-align: top;\n",
       "    }\n",
       "</style>\n",
       "<table border=\"1\" class=\"dataframe\">\n",
       "  <thead>\n",
       "    <tr style=\"text-align: right;\">\n",
       "      <th></th>\n",
       "      <th>Area (sqft)</th>\n",
       "      <th>Price ($)</th>\n",
       "    </tr>\n",
       "  </thead>\n",
       "  <tbody>\n",
       "    <tr>\n",
       "      <th>0</th>\n",
       "      <td>2000</td>\n",
       "      <td>88600</td>\n",
       "    </tr>\n",
       "    <tr>\n",
       "      <th>1</th>\n",
       "      <td>1600</td>\n",
       "      <td>71600</td>\n",
       "    </tr>\n",
       "    <tr>\n",
       "      <th>2</th>\n",
       "      <td>1980</td>\n",
       "      <td>93300</td>\n",
       "    </tr>\n",
       "    <tr>\n",
       "      <th>3</th>\n",
       "      <td>1840</td>\n",
       "      <td>84300</td>\n",
       "    </tr>\n",
       "    <tr>\n",
       "      <th>4</th>\n",
       "      <td>1710</td>\n",
       "      <td>80600</td>\n",
       "    </tr>\n",
       "  </tbody>\n",
       "</table>\n",
       "</div>"
      ],
      "text/plain": [
       "   Area (sqft)  Price ($)\n",
       "0         2000      88600\n",
       "1         1600      71600\n",
       "2         1980      93300\n",
       "3         1840      84300\n",
       "4         1710      80600"
      ]
     },
     "execution_count": 2,
     "metadata": {},
     "output_type": "execute_result"
    }
   ],
   "source": [
    "flatdata = pd.read_csv('Price.csv')\n",
    "flatdata.head()"
   ]
  },
  {
   "cell_type": "code",
   "execution_count": 10,
   "metadata": {},
   "outputs": [
    {
     "name": "stdout",
     "output_type": "stream",
     "text": [
      "[[2000]\n",
      " [1600]\n",
      " [1980]\n",
      " [1840]\n",
      " [1710]\n",
      " [1550]\n",
      " [1470]\n",
      " [1710]\n",
      " [1540]\n",
      " [1620]\n",
      " [1500]\n",
      " [1720]\n",
      " [1600]\n",
      " [1700]\n",
      " [1440]\n",
      " [1520]\n",
      " [1960]\n",
      " [1700]\n",
      " [1420]\n",
      " [1520]\n",
      " [1900]\n",
      " [1640]\n",
      " [1900]\n",
      " [1860]\n",
      " [1700]\n",
      " [1590]\n",
      " [1410]\n",
      " [1770]\n",
      " [1550]\n",
      " [1600]\n",
      " [1580]\n",
      " [1760]\n",
      " [1600]\n",
      " [1790]\n",
      " [1480]\n",
      " [1500]\n",
      " [1980]\n",
      " [1710]\n",
      " [1400]\n",
      " [1590]]\n",
      "[88600 71600 93300 84300 80600 75200 69700 82000 69400 78700 79600 82600\n",
      " 74500 83500 76300 74000 92890 79500 75600 70000 82600 73600 92100 84700\n",
      " 82600 75900 68700 84700 72400 76700 82600 83600 78500 84500 78500 72000\n",
      " 92990 81500 71300 72500]\n"
     ]
    }
   ],
   "source": [
    "X = flatdata.iloc[:,:-1].values\n",
    "y = flatdata.iloc[:,1].values\n",
    "print(X)\n",
    "print(y)"
   ]
  },
  {
   "cell_type": "code",
   "execution_count": 11,
   "metadata": {},
   "outputs": [],
   "source": [
    "from sklearn.cross_validation import train_test_split\n",
    "X_train, X_test, y_train, y_test = train_test_split(X, y,\n",
    "                                                   test_size=1/4,\n",
    "                                                   random_state = 0)"
   ]
  },
  {
   "cell_type": "code",
   "execution_count": 12,
   "metadata": {},
   "outputs": [
    {
     "data": {
      "text/plain": [
       "LinearRegression(copy_X=True, fit_intercept=True, n_jobs=1, normalize=False)"
      ]
     },
     "execution_count": 12,
     "metadata": {},
     "output_type": "execute_result"
    }
   ],
   "source": [
    "from sklearn.linear_model import LinearRegression\n",
    "regAgent = LinearRegression()\n",
    "regAgent.fit(X_train, y_train)"
   ]
  },
  {
   "cell_type": "code",
   "execution_count": 14,
   "metadata": {},
   "outputs": [
    {
     "name": "stdout",
     "output_type": "stream",
     "text": [
      "[ 88193.24954184  88193.24954184  76501.04657911  81027.0606292\n",
      "  73106.53604154  73860.87171655  74992.37522908  81404.22846671\n",
      "  70089.19334148  76878.21441662]\n"
     ]
    }
   ],
   "source": [
    "predictVal = regAgent.predict(X_test)\n",
    "print(predictVal)"
   ]
  },
  {
   "cell_type": "code",
   "execution_count": 16,
   "metadata": {},
   "outputs": [
    {
     "data": {
      "image/png": "[encoded data removed]",
      "text/plain": [
       "<matplotlib.figure.Figure at 0xab017ba780>"
      ]
     },
     "metadata": {},
     "output_type": "display_data"
    }
   ],
   "source": [
    "plt.scatter(X_train, y_train, color='green')\n",
    "plt.plot(X_train, regAgent.predict(X_train), color='red')\n",
    "plt.title('compare training result - Area/price')\n",
    "plt.xlabel('Area of Flat')\n",
    "plt.ylabel('price')\n",
    "plt.show()"
   ]
  },
  {
   "cell_type": "code",
   "execution_count": 19,
   "metadata": {
    "scrolled": true
   },
   "outputs": [
    {
     "data": {
      "image/png": "[encoded data removed]",
      "text/plain": [
       "<matplotlib.figure.Figure at 0xab01652080>"
      ]
     },
     "metadata": {},
     "output_type": "display_data"
    }
   ],
   "source": [
    "plt.scatter(X_test, y_test, color='green')\n",
    "plt.plot(X_test, regAgent.predict(X_test), color='red')\n",
    "plt.title('compare test result - Area/price')\n",
    "plt.xlabel('Area of Flat')\n",
    "plt.ylabel('price')\n",
    "plt.show()"
   ]
  },
  {
   "cell_type": "code",
   "execution_count": 30,
   "metadata": {},
   "outputs": [
    {
     "name": "stdout",
     "output_type": "stream",
     "text": [
      "[ 80649.89279169  88193.24954184]\n"
     ]
    }
   ],
   "source": [
    "val = [[1700], [1900]]\n",
    "predictval = regAgent.predict(val)\n",
    "print(predictval)\n",
    "# print(X_test)"
   ]
  },
  {
   "cell_type": "code",
   "execution_count": 32,
   "metadata": {
    "scrolled": true
   },
   "outputs": [
    {
     "name": "stdout",
     "output_type": "stream",
     "text": [
      "[ 47.44111341]\n",
      "[ 46.41749976]\n"
     ]
    }
   ],
   "source": [
    "#Eq ; price = m(area)\n",
    "print(predictval[0]/val[[0][0]])\n",
    "print(predictval[1]/val[[1][0]])\n"
   ]
  },
  {
   "cell_type": "code",
   "execution_count": 34,
   "metadata": {},
   "outputs": [
    {
     "name": "stdout",
     "output_type": "stream",
     "text": [
      "[ 37.71678375]\n",
      "16531.3604154\n"
     ]
    }
   ],
   "source": [
    "print(regAgent.coef_)\n",
    "print(regAgent.intercept_)"
   ]
  }
 ],
 "metadata": {
  "kernelspec": {
   "display_name": "Python 3",
   "language": "python",
   "name": "python3"
  },
  "language_info": {
   "codemirror_mode": {
    "name": "ipython",
    "version": 3
   },
   "file_extension": ".py",
   "mimetype": "text/x-python",
   "name": "python",
   "nbconvert_exporter": "python",
   "pygments_lexer": "ipython3",
   "version": "3.6.3"
  }
 },
 "nbformat": 4,
 "nbformat_minor": 2
}
