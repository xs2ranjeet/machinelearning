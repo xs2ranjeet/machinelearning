{
 "cells": [
  {
   "cell_type": "code",
   "execution_count": 1,
   "metadata": {
    "collapsed": true
   },
   "outputs": [],
   "source": [
    "import numpy as np\n",
    "import matplotlib.pyplot as plt\n",
    "import pandas as pd"
   ]
  },
  {
   "cell_type": "code",
   "execution_count": 4,
   "metadata": {},
   "outputs": [],
   "source": [
    "healthdata = pd.read_csv('Health.csv')"
   ]
  },
  {
   "cell_type": "code",
   "execution_count": 3,
   "metadata": {
    "scrolled": true
   },
   "outputs": [
    {
     "data": {
      "text/html": [
       "<div>\n",
       "<style>\n",
       "    .dataframe thead tr:only-child th {\n",
       "        text-align: right;\n",
       "    }\n",
       "\n",
       "    .dataframe thead th {\n",
       "        text-align: left;\n",
       "    }\n",
       "\n",
       "    .dataframe tbody tr th {\n",
       "        vertical-align: top;\n",
       "    }\n",
       "</style>\n",
       "<table border=\"1\" class=\"dataframe\">\n",
       "  <thead>\n",
       "    <tr style=\"text-align: right;\">\n",
       "      <th></th>\n",
       "      <th>Ethnicity</th>\n",
       "      <th>Height (CM)</th>\n",
       "      <th>Weight (Kg)</th>\n",
       "      <th>Will survive till 70</th>\n",
       "    </tr>\n",
       "  </thead>\n",
       "  <tbody>\n",
       "    <tr>\n",
       "      <th>0</th>\n",
       "      <td>White</td>\n",
       "      <td>186.0</td>\n",
       "      <td>90.0</td>\n",
       "      <td>Yes</td>\n",
       "    </tr>\n",
       "    <tr>\n",
       "      <th>1</th>\n",
       "      <td>African</td>\n",
       "      <td>185.0</td>\n",
       "      <td>98.0</td>\n",
       "      <td>No</td>\n",
       "    </tr>\n",
       "    <tr>\n",
       "      <th>2</th>\n",
       "      <td>Asian</td>\n",
       "      <td>175.0</td>\n",
       "      <td>80.0</td>\n",
       "      <td>No</td>\n",
       "    </tr>\n",
       "    <tr>\n",
       "      <th>3</th>\n",
       "      <td>White</td>\n",
       "      <td>180.0</td>\n",
       "      <td>88.0</td>\n",
       "      <td>Yes</td>\n",
       "    </tr>\n",
       "    <tr>\n",
       "      <th>4</th>\n",
       "      <td>Asian</td>\n",
       "      <td>178.0</td>\n",
       "      <td>NaN</td>\n",
       "      <td>No</td>\n",
       "    </tr>\n",
       "    <tr>\n",
       "      <th>5</th>\n",
       "      <td>Asian</td>\n",
       "      <td>172.0</td>\n",
       "      <td>72.0</td>\n",
       "      <td>Yes</td>\n",
       "    </tr>\n",
       "    <tr>\n",
       "      <th>6</th>\n",
       "      <td>African</td>\n",
       "      <td>178.0</td>\n",
       "      <td>75.0</td>\n",
       "      <td>No</td>\n",
       "    </tr>\n",
       "    <tr>\n",
       "      <th>7</th>\n",
       "      <td>White</td>\n",
       "      <td>NaN</td>\n",
       "      <td>89.0</td>\n",
       "      <td>Yes</td>\n",
       "    </tr>\n",
       "    <tr>\n",
       "      <th>8</th>\n",
       "      <td>African</td>\n",
       "      <td>186.0</td>\n",
       "      <td>90.0</td>\n",
       "      <td>Yes</td>\n",
       "    </tr>\n",
       "  </tbody>\n",
       "</table>\n",
       "</div>"
      ],
      "text/plain": [
       "  Ethnicity  Height (CM)  Weight (Kg) Will survive till 70\n",
       "0     White        186.0         90.0                  Yes\n",
       "1   African        185.0         98.0                   No\n",
       "2     Asian        175.0         80.0                   No\n",
       "3     White        180.0         88.0                  Yes\n",
       "4     Asian        178.0          NaN                   No\n",
       "5     Asian        172.0         72.0                  Yes\n",
       "6   African        178.0         75.0                   No\n",
       "7     White          NaN         89.0                  Yes\n",
       "8   African        186.0         90.0                  Yes"
      ]
     },
     "execution_count": 3,
     "metadata": {},
     "output_type": "execute_result"
    }
   ],
   "source": [
    "healthdata"
   ]
  },
  {
   "cell_type": "code",
   "execution_count": 8,
   "metadata": {},
   "outputs": [
    {
     "name": "stdout",
     "output_type": "stream",
     "text": [
      "[['White' 186.0 90.0]\n",
      " ['African' 185.0 98.0]\n",
      " ['Asian' 175.0 80.0]\n",
      " ['White' 180.0 88.0]\n",
      " ['Asian' 178.0 nan]\n",
      " ['Asian' 172.0 72.0]\n",
      " ['African' 178.0 75.0]\n",
      " ['White' nan 89.0]\n",
      " ['African' 186.0 90.0]]\n",
      "['Yes' 'No' 'No' 'Yes' 'No' 'Yes' 'No' 'Yes' 'Yes']\n"
     ]
    }
   ],
   "source": [
    "#split the data\n",
    "X = healthdata.iloc[:,0:3].values\n",
    "y = healthdata.iloc[:,3].values\n",
    "print(X)\n",
    "print(y)"
   ]
  },
  {
   "cell_type": "code",
   "execution_count": 11,
   "metadata": {
    "collapsed": true
   },
   "outputs": [],
   "source": [
    "from sklearn.preprocessing import Imputer\n",
    "missingdataimputer = Imputer(missing_values = 'NaN', strategy= 'mean',\n",
    "                            axis = 0)\n",
    "missingdataimputer  = missingdataimputer.fit(X[:,1:3])\n",
    "X[:,1:3] = missingdataimputer.transform(X[:,1:3])"
   ]
  },
  {
   "cell_type": "code",
   "execution_count": 12,
   "metadata": {},
   "outputs": [
    {
     "name": "stdout",
     "output_type": "stream",
     "text": [
      "[['White' 186.0 90.0]\n",
      " ['African' 185.0 98.0]\n",
      " ['Asian' 175.0 80.0]\n",
      " ['White' 180.0 88.0]\n",
      " ['Asian' 178.0 85.25]\n",
      " ['Asian' 172.0 72.0]\n",
      " ['African' 178.0 75.0]\n",
      " ['White' 180.0 89.0]\n",
      " ['African' 186.0 90.0]]\n"
     ]
    }
   ],
   "source": [
    "print(X)"
   ]
  },
  {
   "cell_type": "code",
   "execution_count": 13,
   "metadata": {},
   "outputs": [
    {
     "name": "stdout",
     "output_type": "stream",
     "text": [
      "[[2 186.0 90.0]\n",
      " [0 185.0 98.0]\n",
      " [1 175.0 80.0]\n",
      " [2 180.0 88.0]\n",
      " [1 178.0 85.25]\n",
      " [1 172.0 72.0]\n",
      " [0 178.0 75.0]\n",
      " [2 180.0 89.0]\n",
      " [0 186.0 90.0]]\n",
      "[1 0 0 1 0 1 0 1 1]\n"
     ]
    }
   ],
   "source": [
    "from sklearn.preprocessing import LabelEncoder\n",
    "xlabelencoder = LabelEncoder()\n",
    "X[:,0] = xlabelencoder.fit_transform(X[:,0])\n",
    "print(X)\n",
    "ylabelecoder = LabelEncoder()\n",
    "y = ylabelecoder.fit_transform(y)\n",
    "print(y)"
   ]
  },
  {
   "cell_type": "code",
   "execution_count": 15,
   "metadata": {},
   "outputs": [
    {
     "name": "stdout",
     "output_type": "stream",
     "text": [
      "[[   0.      0.      1.    186.     90.  ]\n",
      " [   1.      0.      0.    185.     98.  ]\n",
      " [   0.      1.      0.    175.     80.  ]\n",
      " [   0.      0.      1.    180.     88.  ]\n",
      " [   0.      1.      0.    178.     85.25]\n",
      " [   0.      1.      0.    172.     72.  ]\n",
      " [   1.      0.      0.    178.     75.  ]\n",
      " [   0.      0.      1.    180.     89.  ]\n",
      " [   1.      0.      0.    186.     90.  ]]\n"
     ]
    }
   ],
   "source": [
    "from sklearn.preprocessing import OneHotEncoder\n",
    "xonehotencoder = OneHotEncoder(categorical_features = [0])\n",
    "X = xonehotencoder.fit_transform(X).toarray()\n",
    "print(X)"
   ]
  },
  {
   "cell_type": "code",
   "execution_count": 16,
   "metadata": {},
   "outputs": [
    {
     "name": "stderr",
     "output_type": "stream",
     "text": [
      "C:\\ProgramData\\Anaconda3\\lib\\site-packages\\sklearn\\cross_validation.py:41: DeprecationWarning: This module was deprecated in version 0.18 in favor of the model_selection module into which all the refactored classes and functions are moved. Also note that the interface of the new CV iterators are different from that of this module. This module will be removed in 0.20.\n",
      "  \"This module will be removed in 0.20.\", DeprecationWarning)\n"
     ]
    }
   ],
   "source": [
    "from sklearn.cross_validation import train_test_split\n",
    "X_train, X_test, y_train, y_test = train_test_split(X, y, test_size = 0.2, random_state = 0)"
   ]
  },
  {
   "cell_type": "code",
   "execution_count": 17,
   "metadata": {
    "scrolled": true
   },
   "outputs": [
    {
     "name": "stdout",
     "output_type": "stream",
     "text": [
      "[[-0.8660254  -0.63245553  1.58113883 -0.14693177  0.42022402]\n",
      " [-0.8660254   1.58113883 -0.63245553 -1.1754542  -0.64943713]] [[ 1.15470054 -0.63245553 -0.63245553  0.88159065  1.48988518]\n",
      " [-0.8660254   1.58113883 -0.63245553 -0.55834074 -0.02546812]\n",
      " [ 1.15470054 -0.63245553 -0.63245553  1.08729513  0.53907526]\n",
      " [ 1.15470054 -0.63245553 -0.63245553 -0.55834074 -1.24369333]\n",
      " [-0.8660254  -0.63245553  1.58113883 -0.14693177  0.30137279]\n",
      " [-0.8660254  -0.63245553  1.58113883  1.08729513  0.53907526]\n",
      " [-0.8660254   1.58113883 -0.63245553 -1.79256765 -1.60024704]]\n"
     ]
    }
   ],
   "source": [
    "from sklearn.preprocessing import StandardScaler\n",
    "independentScaler = StandardScaler()\n",
    "X_train = independentScaler.fit_transform(X_train)\n",
    "X_test = independentScaler.transform(X_test)\n",
    "print(X_test, X_train)"
   ]
  },
  {
   "cell_type": "code",
   "execution_count": 25,
   "metadata": {
    "scrolled": true
   },
   "outputs": [
    {
     "name": "stdout",
     "output_type": "stream",
     "text": [
      "[[   0.      0.      1.    186.     90.  ]\n",
      " [   1.      0.      0.    185.     98.  ]\n",
      " [   0.      1.      0.    175.     80.  ]\n",
      " [   0.      0.      1.    180.     88.  ]\n",
      " [   0.      1.      0.    178.     85.25]\n",
      " [   0.      1.      0.    172.     72.  ]\n",
      " [   1.      0.      0.    178.     75.  ]\n",
      " [   0.      0.      1.    180.     89.  ]\n",
      " [   1.      0.      0.    186.     90.  ]]\n"
     ]
    }
   ],
   "source": [
    "from sklearn.decomposition import PCA\n",
    "pca = PCA(n_components = 3)\n",
    "principalComponents = pca.fit_transform(X)\n",
    "print(X)"
   ]
  },
  {
   "cell_type": "code",
   "execution_count": 26,
   "metadata": {},
   "outputs": [
    {
     "name": "stdout",
     "output_type": "stream",
     "text": [
      "[[ -7.07332569   2.87885319   0.85435785]\n",
      " [-13.58056383  -1.74005291  -0.84595794]\n",
      " [  7.0423179   -1.87860658  -0.18956012]\n",
      " [ -2.42269889  -1.33545938   0.6795378 ]\n",
      " [  1.00149079  -1.82559714  -0.24975166]\n",
      " [ 15.48730093  -0.60246218  -0.03386167]\n",
      " [  9.9127635    3.3320416   -0.33216585]\n",
      " [ -3.29693741  -1.81878805   0.64480802]\n",
      " [ -7.0703473    2.99007143  -0.52740642]]\n"
     ]
    }
   ],
   "source": [
    "print(principalComponents)"
   ]
  },
  {
   "cell_type": "code",
   "execution_count": 27,
   "metadata": {},
   "outputs": [
    {
     "name": "stdout",
     "output_type": "stream",
     "text": [
      "Sum of variance :  [ 0.93547027  0.05922031  0.00381162]\n"
     ]
    }
   ],
   "source": [
    "print(\"Sum of variance : \", pca.explained_variance_ratio_)"
   ]
  },
  {
   "cell_type": "code",
   "execution_count": 29,
   "metadata": {},
   "outputs": [
    {
     "data": {
      "text/html": [
       "<div>\n",
       "<style>\n",
       "    .dataframe thead tr:only-child th {\n",
       "        text-align: right;\n",
       "    }\n",
       "\n",
       "    .dataframe thead th {\n",
       "        text-align: left;\n",
       "    }\n",
       "\n",
       "    .dataframe tbody tr th {\n",
       "        vertical-align: top;\n",
       "    }\n",
       "</style>\n",
       "<table border=\"1\" class=\"dataframe\">\n",
       "  <thead>\n",
       "    <tr style=\"text-align: right;\">\n",
       "      <th></th>\n",
       "      <th>principal component 1</th>\n",
       "      <th>principal component 2</th>\n",
       "      <th>principal component 3</th>\n",
       "    </tr>\n",
       "  </thead>\n",
       "  <tbody>\n",
       "    <tr>\n",
       "      <th>0</th>\n",
       "      <td>-7.073326</td>\n",
       "      <td>2.878853</td>\n",
       "      <td>0.854358</td>\n",
       "    </tr>\n",
       "    <tr>\n",
       "      <th>1</th>\n",
       "      <td>-13.580564</td>\n",
       "      <td>-1.740053</td>\n",
       "      <td>-0.845958</td>\n",
       "    </tr>\n",
       "    <tr>\n",
       "      <th>2</th>\n",
       "      <td>7.042318</td>\n",
       "      <td>-1.878607</td>\n",
       "      <td>-0.189560</td>\n",
       "    </tr>\n",
       "    <tr>\n",
       "      <th>3</th>\n",
       "      <td>-2.422699</td>\n",
       "      <td>-1.335459</td>\n",
       "      <td>0.679538</td>\n",
       "    </tr>\n",
       "    <tr>\n",
       "      <th>4</th>\n",
       "      <td>1.001491</td>\n",
       "      <td>-1.825597</td>\n",
       "      <td>-0.249752</td>\n",
       "    </tr>\n",
       "    <tr>\n",
       "      <th>5</th>\n",
       "      <td>15.487301</td>\n",
       "      <td>-0.602462</td>\n",
       "      <td>-0.033862</td>\n",
       "    </tr>\n",
       "    <tr>\n",
       "      <th>6</th>\n",
       "      <td>9.912763</td>\n",
       "      <td>3.332042</td>\n",
       "      <td>-0.332166</td>\n",
       "    </tr>\n",
       "    <tr>\n",
       "      <th>7</th>\n",
       "      <td>-3.296937</td>\n",
       "      <td>-1.818788</td>\n",
       "      <td>0.644808</td>\n",
       "    </tr>\n",
       "    <tr>\n",
       "      <th>8</th>\n",
       "      <td>-7.070347</td>\n",
       "      <td>2.990071</td>\n",
       "      <td>-0.527406</td>\n",
       "    </tr>\n",
       "  </tbody>\n",
       "</table>\n",
       "</div>"
      ],
      "text/plain": [
       "   principal component 1  principal component 2  principal component 3\n",
       "0              -7.073326               2.878853               0.854358\n",
       "1             -13.580564              -1.740053              -0.845958\n",
       "2               7.042318              -1.878607              -0.189560\n",
       "3              -2.422699              -1.335459               0.679538\n",
       "4               1.001491              -1.825597              -0.249752\n",
       "5              15.487301              -0.602462              -0.033862\n",
       "6               9.912763               3.332042              -0.332166\n",
       "7              -3.296937              -1.818788               0.644808\n",
       "8              -7.070347               2.990071              -0.527406"
      ]
     },
     "execution_count": 29,
     "metadata": {},
     "output_type": "execute_result"
    }
   ],
   "source": [
    "principalDf = pd.DataFrame(data = principalComponents,\n",
    "                           columns = ['principal component 1',\n",
    "                                     'principal component 2',\n",
    "                                     'principal component 3'])\n",
    "principalDf"
   ]
  },
  {
   "cell_type": "code",
   "execution_count": 30,
   "metadata": {},
   "outputs": [
    {
     "name": "stdout",
     "output_type": "stream",
     "text": [
      "[ 0.93547027  0.05922031  0.00381162]\n"
     ]
    }
   ],
   "source": [
    "print(pca.explained_variance_ratio_)"
   ]
  },
  {
   "cell_type": "code",
   "execution_count": 32,
   "metadata": {
    "scrolled": false
   },
   "outputs": [
    {
     "data": {
      "image/png": "[encoded data removed]",
      "text/plain": [
       "<matplotlib.figure.Figure at 0x2d5d977ef0>"
      ]
     },
     "metadata": {},
     "output_type": "display_data"
    }
   ],
   "source": [
    "plt.plot(pca.explained_variance_ratio_)\n",
    "plt.show()"
   ]
  },
  {
   "cell_type": "code",
   "execution_count": 33,
   "metadata": {
    "scrolled": true
   },
   "outputs": [
    {
     "name": "stdout",
     "output_type": "stream",
     "text": [
      "[[-0.70710678 -0.70710678  1.41421356  1.29232469  0.61464681]\n",
      " [ 1.41421356 -0.70710678 -0.70710678  1.07693724  1.64984143]\n",
      " [-0.70710678  1.41421356 -0.70710678 -1.07693724 -0.67934647]\n",
      " [-0.70710678 -0.70710678  1.41421356  0.          0.35584815]\n",
      " [-0.70710678  1.41421356 -0.70710678 -0.4307749   0.        ]\n",
      " [-0.70710678  1.41421356 -0.70710678 -1.72309958 -1.71454109]\n",
      " [ 1.41421356 -0.70710678 -0.70710678 -0.4307749  -1.32634311]\n",
      " [-0.70710678 -0.70710678  1.41421356  0.          0.48524748]\n",
      " [ 1.41421356 -0.70710678 -0.70710678  1.29232469  0.61464681]]\n"
     ]
    }
   ],
   "source": [
    "from sklearn.preprocessing import StandardScaler\n",
    "independentScaler1 = StandardScaler()\n",
    "X1 = independentScaler1.fit_transform(X)\n",
    "print(X1)"
   ]
  },
  {
   "cell_type": "code",
   "execution_count": 34,
   "metadata": {
    "scrolled": true
   },
   "outputs": [
    {
     "name": "stdout",
     "output_type": "stream",
     "text": [
      "[[-0.70710678 -0.70710678  1.41421356  1.29232469  0.61464681]\n",
      " [ 1.41421356 -0.70710678 -0.70710678  1.07693724  1.64984143]\n",
      " [-0.70710678  1.41421356 -0.70710678 -1.07693724 -0.67934647]\n",
      " [-0.70710678 -0.70710678  1.41421356  0.          0.35584815]\n",
      " [-0.70710678  1.41421356 -0.70710678 -0.4307749   0.        ]\n",
      " [-0.70710678  1.41421356 -0.70710678 -1.72309958 -1.71454109]\n",
      " [ 1.41421356 -0.70710678 -0.70710678 -0.4307749  -1.32634311]\n",
      " [-0.70710678 -0.70710678  1.41421356  0.          0.48524748]\n",
      " [ 1.41421356 -0.70710678 -0.70710678  1.29232469  0.61464681]]\n",
      "[ 0.56790157  0.30268959  0.110516  ]\n"
     ]
    },
    {
     "data": {
      "text/html": [
       "<div>\n",
       "<style>\n",
       "    .dataframe thead tr:only-child th {\n",
       "        text-align: right;\n",
       "    }\n",
       "\n",
       "    .dataframe thead th {\n",
       "        text-align: left;\n",
       "    }\n",
       "\n",
       "    .dataframe tbody tr th {\n",
       "        vertical-align: top;\n",
       "    }\n",
       "</style>\n",
       "<table border=\"1\" class=\"dataframe\">\n",
       "  <thead>\n",
       "    <tr style=\"text-align: right;\">\n",
       "      <th></th>\n",
       "      <th>principal component 1</th>\n",
       "      <th>principal component 2</th>\n",
       "      <th>principal component 3</th>\n",
       "    </tr>\n",
       "  </thead>\n",
       "  <tbody>\n",
       "    <tr>\n",
       "      <th>0</th>\n",
       "      <td>-1.585867</td>\n",
       "      <td>-1.472516</td>\n",
       "      <td>-0.045549</td>\n",
       "    </tr>\n",
       "    <tr>\n",
       "      <th>1</th>\n",
       "      <td>-2.025325</td>\n",
       "      <td>1.415903</td>\n",
       "      <td>-0.770678</td>\n",
       "    </tr>\n",
       "    <tr>\n",
       "      <th>2</th>\n",
       "      <td>2.082009</td>\n",
       "      <td>0.005833</td>\n",
       "      <td>-0.533873</td>\n",
       "    </tr>\n",
       "    <tr>\n",
       "      <th>3</th>\n",
       "      <td>-0.725999</td>\n",
       "      <td>-1.528708</td>\n",
       "      <td>0.434189</td>\n",
       "    </tr>\n",
       "    <tr>\n",
       "      <th>4</th>\n",
       "      <td>1.374553</td>\n",
       "      <td>-0.010425</td>\n",
       "      <td>-1.134624</td>\n",
       "    </tr>\n",
       "    <tr>\n",
       "      <th>5</th>\n",
       "      <td>2.969036</td>\n",
       "      <td>0.050791</td>\n",
       "      <td>0.300389</td>\n",
       "    </tr>\n",
       "    <tr>\n",
       "      <th>6</th>\n",
       "      <td>0.327368</td>\n",
       "      <td>1.566029</td>\n",
       "      <td>1.543893</td>\n",
       "    </tr>\n",
       "    <tr>\n",
       "      <th>7</th>\n",
       "      <td>-0.791298</td>\n",
       "      <td>-1.539144</td>\n",
       "      <td>0.349276</td>\n",
       "    </tr>\n",
       "    <tr>\n",
       "      <th>8</th>\n",
       "      <td>-1.624478</td>\n",
       "      <td>1.512237</td>\n",
       "      <td>-0.143023</td>\n",
       "    </tr>\n",
       "  </tbody>\n",
       "</table>\n",
       "</div>"
      ],
      "text/plain": [
       "   principal component 1  principal component 2  principal component 3\n",
       "0              -1.585867              -1.472516              -0.045549\n",
       "1              -2.025325               1.415903              -0.770678\n",
       "2               2.082009               0.005833              -0.533873\n",
       "3              -0.725999              -1.528708               0.434189\n",
       "4               1.374553              -0.010425              -1.134624\n",
       "5               2.969036               0.050791               0.300389\n",
       "6               0.327368               1.566029               1.543893\n",
       "7              -0.791298              -1.539144               0.349276\n",
       "8              -1.624478               1.512237              -0.143023"
      ]
     },
     "execution_count": 34,
     "metadata": {},
     "output_type": "execute_result"
    }
   ],
   "source": [
    "from sklearn.decomposition import PCA\n",
    "pca = PCA(n_components = 3)\n",
    "principalComponents = pca.fit_transform(X1)\n",
    "print(X1)\n",
    "print(pca.explained_variance_ratio_)\n",
    "principalDf = pd.DataFrame(data = principalComponents,\n",
    "                           columns = ['principal component 1',\n",
    "                                     'principal component 2',\n",
    "                                     'principal component 3'])\n",
    "principalDf"
   ]
  },
  {
   "cell_type": "code",
   "execution_count": 35,
   "metadata": {},
   "outputs": [
    {
     "data": {
      "image/png": "[encoded data removed]",
      "text/plain": [
       "<matplotlib.figure.Figure at 0x2d5d977f60>"
      ]
     },
     "metadata": {},
     "output_type": "display_data"
    }
   ],
   "source": [
    "plt.plot(pca.explained_variance_ratio_)\n",
    "plt.show()"
   ]
  },
  {
   "cell_type": "code",
   "execution_count": null,
   "metadata": {
    "collapsed": true
   },
   "outputs": [],
   "source": []
  }
 ],
 "metadata": {
  "kernelspec": {
   "display_name": "Python 3",
   "language": "python",
   "name": "python3"
  },
  "language_info": {
   "codemirror_mode": {
    "name": "ipython",
    "version": 3
   },
   "file_extension": ".py",
   "mimetype": "text/x-python",
   "name": "python",
   "nbconvert_exporter": "python",
   "pygments_lexer": "ipython3",
   "version": "3.6.3"
  }
 },
 "nbformat": 4,
 "nbformat_minor": 2
}
